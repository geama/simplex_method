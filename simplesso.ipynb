{
 "cells": [
  {
   "cell_type": "code",
   "execution_count": 36,
   "metadata": {},
   "outputs": [],
   "source": [
    "import numpy as np\n",
    "from itertools import combinations"
   ]
  },
  {
   "cell_type": "code",
   "execution_count": 37,
   "metadata": {},
   "outputs": [
    {
     "name": "stdout",
     "output_type": "stream",
     "text": [
      "\n",
      "Vincolo numero 0\n",
      "Inserire coefficiente numero 0\n",
      "Inserire coefficiente numero 1\n",
      "Inserire coefficiente numero 2\n",
      "Inserire coefficiente numero 3\n",
      "Inserire coefficiente numero 4\n",
      "Inserire coefficiente numero 5\n",
      "Inserire coefficiente numero 6\n",
      "Inserire termine noto: \n",
      "\n",
      "Vincolo numero 1\n",
      "Inserire coefficiente numero 0\n",
      "Inserire coefficiente numero 1\n",
      "Inserire coefficiente numero 2\n",
      "Inserire coefficiente numero 3\n",
      "Inserire coefficiente numero 4\n",
      "Inserire coefficiente numero 5\n",
      "Inserire coefficiente numero 6\n",
      "Inserire termine noto: \n",
      "\n",
      "Vincolo numero 2\n",
      "Inserire coefficiente numero 0\n",
      "Inserire coefficiente numero 1\n",
      "Inserire coefficiente numero 2\n",
      "Inserire coefficiente numero 3\n",
      "Inserire coefficiente numero 4\n",
      "Inserire coefficiente numero 5\n",
      "Inserire coefficiente numero 6\n",
      "Inserire termine noto: \n",
      "[[ 1. -1.  0.  0.  1.  0.  0.]\n",
      " [ 1. -1. -1.  1.  0. -1.  0.]\n",
      " [ 1. -1.  1. -1.  0.  0. -1.]]\n",
      "[[2.]\n",
      " [0.]\n",
      " [1.]]\n",
      "[[ 1. -1.  0.  0.  1.  0.  0.]\n",
      " [ 1. -1. -1.  1.  0. -1.  0.]\n",
      " [ 1. -1.  1. -1.  0.  0. -1.]]\n",
      "[[ 1. -1.  0.  0.  1.  0.  0.]\n",
      " [ 1. -1. -1.  1.  0. -1.  0.]\n",
      " [ 1. -1.  1. -1.  0.  0. -1.]]\n",
      "[[2.]\n",
      " [0.]\n",
      " [1.]]\n"
     ]
    }
   ],
   "source": [
    "%run std_input_matrix.ipynb"
   ]
  },
  {
   "cell_type": "markdown",
   "metadata": {},
   "source": [
    "Ogni problema di programmazione lineare può essere trasformato in un problema equivalente formulato in forma standard.\n",
    "\n",
    "Definizione: Un problema di PL si dice formulato in forma standard se si tratta di minimizzare una funzione obiettivo lineare soggetta a vincoli di uguaglianza, se le variabili di decisione sono vincolate ad essere nonnegative e il vettore dei termini noti è nonnegativo.\n",
    "\n",
    "Infatti, è sempre possibile assumere che la funzione obiettivo lineare z(x) sia da\n",
    "minimizzare, in quanto il valore della variabile x∗ che rende massima z(x)\n",
    "rende minima la stessa funzione cambiata di segno.\n",
    "\n",
    "Un qualsiasi vincolo può essere trasformato in vincolo di uguaglianza introducendo opportune variabili aggiuntive nonnegative: \n",
    "1. nel caso di un vincolo (<=) avremo una variabile di slack (positiva, che rappresenta la differenza nonnegativa tra il secondo ed il primo\n",
    "membro della disuguaglianza);\n",
    "2. nel caso di un vincolo (>=) avremo una variabile di surplus (negativa, rappresenta la differenza nonnegativa tra il primo ed il secondo\n",
    "membro della disuguaglianza)."
   ]
  },
  {
   "cell_type": "markdown",
   "metadata": {},
   "source": [
    "Se un problema di PL formulato in forma standard ammette una soluzione ottima finita, allora\n",
    "esiste una soluzione ammissibile di base ottima.\n",
    "\n",
    "Il metodo del simplesso si basa su tale considerazione e cerca una soluzione ottima al problema\n",
    "muovendosi da una soluzione ammissibile di base ad una adiacente sempre nella direzione lungo la quale si verifica un decremento del valore corrente della funzione obiettivo.\n",
    "\n",
    "Il metodo del simplesso, passando da una soluzione ammissibile di base ad una soluzione ammissibile di base adiacente e terminando quando non esiste una soluzione ammissibile di base\n",
    "migliore, può essere interpretato come algoritmo di ricerca locale. Fortunatamente, però, nel caso di problemi di PL, dal momento che si tratta di ottimizzare una funzione obiettivo convessa su una regione ammissibile convessa, si è certi che l’ottimo locale restituito in output dal metodo del simplesso è ottimo anche globalmente."
   ]
  },
  {
   "cell_type": "code",
   "execution_count": 38,
   "metadata": {},
   "outputs": [
    {
     "name": "stdout",
     "output_type": "stream",
     "text": [
      "[(0, 1, 2), (0, 1, 3), (0, 1, 4), (0, 1, 5), (0, 1, 6), (0, 2, 3), (0, 2, 4), (0, 2, 5), (0, 2, 6), (0, 3, 4), (0, 3, 5), (0, 3, 6), (0, 4, 5), (0, 4, 6), (0, 5, 6), (1, 2, 3), (1, 2, 4), (1, 2, 5), (1, 2, 6), (1, 3, 4), (1, 3, 5), (1, 3, 6), (1, 4, 5), (1, 4, 6), (1, 5, 6), (2, 3, 4), (2, 3, 5), (2, 3, 6), (2, 4, 5), (2, 4, 6), (2, 5, 6), (3, 4, 5), (3, 4, 6), (3, 5, 6), (4, 5, 6)]\n",
      "[[ 1. -1.  0.  0.  1.  0.  0.]\n",
      " [ 1. -1. -1.  1.  0. -1.  0.]\n",
      " [ 1. -1.  1. -1.  0.  0. -1.]]\n",
      "rank_subA:  2\n",
      "rank_A:  3\n",
      "vettori_base:  [0, 1, 2]\n",
      "LambdaS:\n",
      " [ 0.  -0.5 -0.5]\n",
      "vettori dipendenti  1\n",
      "rank_subA:  2\n",
      "rank_A:  3\n",
      "vettori_base_2:  [1 2]\n",
      "LambdaS:\n",
      " [-1.  -0.5 -0.5]\n",
      "vettori dipendenti  1\n",
      "rank_subA:  3\n",
      "rank_A:  3\n",
      "vettori_base_2:  [0 1 2]\n",
      "vettori base:\n",
      " [0 1 2]\n",
      "vettori fuori base:\n",
      " [3, 4, 5, 6]\n",
      "[[-1.  0.  0.]\n",
      " [-1. -1. -1.]\n",
      " [-1.  1.  0.]]\n",
      "Soluzione:\n",
      " [[-2.]\n",
      " [-1.]\n",
      " [ 3.]]\n",
      "[[ 1. -1.  0.  0.  1.  0.  0.]\n",
      " [ 1. -1. -1.  1.  0. -1.  0.]\n",
      " [ 1. -1.  1. -1.  0.  0. -1.]]\n",
      "rank_subA:  2\n",
      "rank_A:  3\n",
      "vettori_base:  [0, 1, 5]\n",
      "LambdaS:\n",
      " [-0. -0. -1.]\n",
      "vettori dipendenti  1\n",
      "rank_subA:  2\n",
      "rank_A:  3\n",
      "vettori_base_2:  [2]\n",
      "LambdaS:\n",
      " [ 0.341164  0.341164 -0.682328]\n",
      "vettori dipendenti  1\n",
      "rank_subA:  3\n",
      "rank_A:  3\n",
      "vettori_base_2:  [0 1 2]\n",
      "vettori base:\n",
      " [0 1 2]\n",
      "vettori fuori base:\n",
      " [3, 4, 5, 6]\n",
      "[[ 0.  1.  0.]\n",
      " [-1.  0. -1.]\n",
      " [ 1.  0.  0.]]\n",
      "Soluzione:\n",
      " [[ 1.]\n",
      " [ 2.]\n",
      " [-1.]]\n",
      "[[ 1. -1.  0.  0.  1.  0.  0.]\n",
      " [ 1. -1. -1.  1.  0. -1.  0.]\n",
      " [ 1. -1.  1. -1.  0.  0. -1.]]\n",
      "vettori_base:  [0, 2, 4]\n",
      "vettori base:\n",
      " [0, 2, 4]\n",
      "vettori fuori base:\n",
      " [1, 3, 5, 6]\n",
      "[[ 1.  0.  1.]\n",
      " [ 1. -1.  0.]\n",
      " [ 1.  1.  0.]]\n",
      "Soluzione:\n",
      " [[0.5]\n",
      " [0.5]\n",
      " [1.5]]\n"
     ]
    }
   ],
   "source": [
    "# 'flag' è la variabile binaria che serve a stoppare il while successivo\n",
    "# una volta creata la matrice B (sub_matrix) che rappresenta la matrice di base \n",
    "flag = False\n",
    "# 'indici' è una lista di tuple dove ogni tupla rappresenta una combinazione\n",
    "# di possibili colonne di base\n",
    "indici = list(combinations(range(matrix_A.shape[1]), rank_A))\n",
    "n_comb = len(indici)\n",
    "print(indici)\n",
    "count = 0\n",
    "while flag==False:\n",
    "    # faccio una copia della matrice iniziale in modo da conservare gli indici \n",
    "    matrix_Aprime = matrix_A.copy()\n",
    "    print(matrix_Aprime)\n",
    "    # creo la matrice dei vettori che scarto (linearmente dipendenti)\n",
    "    del_vect = np.array([])\n",
    "\n",
    "    # matrice di base B\n",
    "    sub_matrix = []\n",
    "    for r in range(rank_A):\n",
    "        sub_matrix.append(matrix_Aprime[:, indici[0][r]]) \n",
    "\n",
    "    rank_subA = np.linalg.matrix_rank(sub_matrix)\n",
    "    if rank_subA != rank_A:\n",
    "        print('rank_subA: ', rank_subA)\n",
    "        print('rank_A: ', rank_A)\n",
    "    \n",
    "    # vettore indici variabili di base\n",
    "    vettori_base = [indici[0][r] for r in range(rank_A)]\n",
    "    print('vettori_base: ', vettori_base)\n",
    "    # vettore indici delle variabili fuori base\n",
    "    vettori_fuori_base = [i for i in range(matrix_A.shape[1]) if i not in vettori_base]\n",
    "\n",
    "    # nel caso in cui la sottomatrice selezionata \n",
    "    # abbia rango minore della matrice A\n",
    "    while rank_subA != rank_A:\n",
    "        indici.remove(indici[0])\n",
    "        sub_matrix = []\n",
    "        for r in range(rank_A):\n",
    "            sub_matrix.append(matrix_Aprime[:, indici[0][r]])  \n",
    "        rank_subA = np.linalg.matrix_rank(sub_matrix) \n",
    "\n",
    "        # vogliamo sapere gli indici relativi alle colonne indipendenti\n",
    "        lambdas =  np.real(np.linalg.eigvals(sub_matrix))\n",
    "        lambdas = np.array([round(i, 6) for i in lambdas])\n",
    "        print('LambdaS:\\n', lambdas)\n",
    "        vettori_dipendenti = np.where(lambdas==0) # restituisce gli indici dei vettori linearmente dipendenti\n",
    "        vettori_independenti = np.where(lambdas!=0) # restituisce gli indici dei vettori linearmente indipendenti\n",
    "        print('vettori dipendenti ', len(vettori_dipendenti))\n",
    "        if len(vettori_dipendenti) != 0:\n",
    "            # where the magic happendS\n",
    "            del_vect = np.append(del_vect, matrix_Aprime[vettori_dipendenti])\n",
    "            matrix_Aprime = np.delete(matrix_Aprime, vettori_dipendenti, axis=1)\n",
    "        # devo lavarmi\n",
    "        print('rank_subA: ', rank_subA)\n",
    "        print('rank_A: ', rank_A)\n",
    "        vettori_base = vettori_independenti[:rank_A][0]\n",
    "        print('vettori_base_2: ', vettori_base)\n",
    "        vettori_fuori_base = [i for i in range(matrix_A.shape[1]) if i not in vettori_base]\n",
    "    print('vettori base:\\n', vettori_base)\n",
    "    print('vettori fuori base:\\n', vettori_fuori_base)\n",
    "\n",
    "    # x = B^(-1)*b\n",
    "    # dove B è la matrice di colonne linearmente indipendenti (submatrix)\n",
    "    # trasponiamo submatrix\n",
    "    sub_matrix = np.array(sub_matrix).T\n",
    "    # invertiamo submatrix\n",
    "    print(sub_matrix)\n",
    "    inv_subm = np.linalg.inv(sub_matrix)\n",
    "    # calcoliamo la soluzione con il prodotto righe per colonna\n",
    "    xb = np.dot(inv_subm, termini_noti)\n",
    "    print('Soluzione:\\n', xb)\n",
    "    # a questo punto, aggiorniamo la variabile 'flag' controllando che i coefficienti di x siano tutti positivi\n",
    "    flag = (xb>0).all() # restituisce 'True' se la condizione è soddisfatta da tutti i coeff\n",
    "    # condizione di stop per il while:\n",
    "    # si stoppa quando cicla un numero pari \n",
    "    # al numero di combinazioni possibili\n",
    "    indici.remove(indici[0])\n",
    "    count = count + 1\n",
    "    if count == n_comb:\n",
    "        print('Non esiste una soluzione ottimale finita.')\n",
    "        break"
   ]
  },
  {
   "cell_type": "code",
   "execution_count": 39,
   "metadata": {},
   "outputs": [
    {
     "name": "stdout",
     "output_type": "stream",
     "text": [
      "[0, 2, 4]\n"
     ]
    }
   ],
   "source": [
    "print(vettori_base)"
   ]
  },
  {
   "cell_type": "markdown",
   "metadata": {},
   "source": [
    "Innanzitutto, muovendoci da $x$ a $x + \\theta d$ noi vogliamo comunque rimanere all’interno della regione ammissibile $P$, cioè vogliamo preservare l’ammissibilità della nuova soluzione $x + \\theta d$. \n",
    "Formalmente, ciò equivale a richiedere che:\n",
    "$$A(x+ \\theta d) = b$$\n",
    "$$ 0 = Ad = \\sum_{i=1}^{m} A_{B(i)} d_{B(i)} + \\sum_{l \\neq B(1),...,B(m)} A_{l}d_{l} $$\n",
    "Ricordando che, per ogni $i \\neq j$:\n",
    "$$d_{j}=1, d_{i}=0$$\n",
    "$$ 0 = Ad = Bd_{B} + A_{j} $$\n",
    "Dunque:\n",
    "$$ d_{B} = -B^{-1}A_{j} $$\n",
    "Supponiamo di aver individuato una direzione ammissibile d e di essere pronti a spostarci da $x$ al punto $x + \\theta d$. Effettueremo lo spostamento solo qualora esso fosse conveniente in termini di decremento del valore della funzione obiettivo, che ora sarà:\n",
    "$$ c'(x+\\theta d) = c'x + \\theta c'd$$\n",
    "$$ c'd = c'_{B}d_{B} + c_{j} = c_{j} - c'_{B}B^{-1}A_{j} $$\n",
    "per essere sicuri che la corrente soluzione ammissibile di base non degenere sia ottima, è sufficiente controllare che tutti i costi ridotti delle variabili correntemente non in base siano non negativi.\n",
    "\n",
    "Dunque, abbiamo raggiunto il nostro scopo: passare da una soluzione ammissibile di base (che è un vertice del poliedro descritto dall’insieme dei vincoli) ad una adiacente (vertice adiacente) cui corrisponde un valore della funzione obiettivo inferiore.\n",
    "\n",
    "Definiamo:\n",
    "$$ u = - d_{B} = B^{-1} A_{j} $$\n",
    "Se $u_{i} \\leq 0$, per ogni $i = 1,2,...,m$ allora $\\theta* = \\infty$, il valore ottimo della funzione obiettivo è $-\\infty$ e l’algoritmo termina.\n",
    "\n",
    "Altrimenti, si calcola:\n",
    "$$ \\theta * = min_{\\{i=1,...,m | u_{i}>0\\}} \\{\\frac{x_{i}}{u_{i}}\\}\\$$\n",
    "Sia $l$ l’indice della variabile di base per cui $\\theta* = \\frac{x_B{l}}{u_{l}}$.\n",
    "\n",
    "Si formi una nuova matrice di base rimpiazzando la colonna $A_B{l}$ con la colonna $A_{j}$ e si calcoli la nuova soluzione ammissibile di base $\\bar{x}$ data da:\n",
    "$$ \\bar{x} = 0 $$\n",
    "$$ \\bar{x_{j}} = \\theta* $$\n",
    "$$ \\bar{x_{B(i)}} = x_{B(i)} - \\theta*u_{i} $$\n",
    "$$ \\text{con $i \\neq l$} $$\n",
    "\n"
   ]
  },
  {
   "cell_type": "code",
   "execution_count": 40,
   "metadata": {},
   "outputs": [
    {
     "data": {
      "text/plain": [
       "[1, -1, 0, 0, 0, 0, 0]"
      ]
     },
     "execution_count": 40,
     "metadata": {},
     "output_type": "execute_result"
    }
   ],
   "source": [
    "list_coff"
   ]
  },
  {
   "cell_type": "code",
   "execution_count": 41,
   "metadata": {},
   "outputs": [
    {
     "name": "stdout",
     "output_type": "stream",
     "text": [
      "indice:  0\n",
      "coefficiente:  1\n",
      "indice:  2\n",
      "coefficiente:  0\n",
      "indice:  4\n",
      "coefficiente:  0\n"
     ]
    }
   ],
   "source": [
    "# cprimeb = [list_coff[i] for i in vettori_base]\n",
    "for i in vettori_base:\n",
    "    print('indice: ', i)\n",
    "    print('coefficiente: ',list_coff[i])"
   ]
  },
  {
   "cell_type": "code",
   "execution_count": 42,
   "metadata": {},
   "outputs": [
    {
     "name": "stdout",
     "output_type": "stream",
     "text": [
      "[1, 0, 0]\n",
      "c_j:\n",
      " [0.  0.  0.5 0.5]\n",
      "neg_cj:\n",
      " []\n",
      "SOLUZIONE OTTIMA:\n",
      " [[0.5]\n",
      " [0.5]\n",
      " [1.5]]\n",
      "variabili in base [0, 2, 4]\n"
     ]
    }
   ],
   "source": [
    "flag_2 = False\n",
    "while flag_2==False:\n",
    "    # lista dei coefficienti dei vettori base\n",
    "    cprimeb = [list_coff[i] for i in vettori_base]\n",
    "    print(cprimeb)\n",
    "    # inizializzo lista di tutti i costi ridotti\n",
    "    c_j_list = [] \n",
    "    # inizializzo lista in cui salviamo l'indice delle variabili relative ad un costo ridotto negativo\n",
    "    neg_c_j_ind = [] \n",
    "    for j in vettori_fuori_base:\n",
    "        # calcolo dei costi:\n",
    "        # c_j = cj - c'b * B(-1) * Aj\n",
    "        c_j = list_coff[j] - np.dot(np.dot(cprimeb, np.linalg.inv(sub_matrix)), matrix_A[:,j])\n",
    "        c_j_list.append(c_j)\n",
    "        if c_j<0:\n",
    "            neg_c_j_ind.append(j)\n",
    "    # vettore dei costi\n",
    "    c_j_list = np.array(c_j_list)\n",
    "    print('c_j:\\n', c_j_list)\n",
    "    print('neg_cj:\\n', neg_c_j_ind)\n",
    "    if (c_j_list>=0).all():\n",
    "        # se tutti i costi ridotti sono >= 0, la soluzione ottima è stata trovata:\n",
    "        print('SOLUZIONE OTTIMA:\\n', xb)\n",
    "        print(\"variabili in base\",vettori_base)\n",
    "        flag_2 = True\n",
    "    else:\n",
    "        # scegliamo l'indice più piccolo tra le variabili che hanno costo ridotto negativo\n",
    "        min_ind = np.min(neg_c_j_ind) # REGOLA DI BLAND\n",
    "        # calcolo u = B(-1) * A(indice minimo scelto)\n",
    "        u = np.dot(np.linalg.inv(sub_matrix), matrix_A[:,min_ind])\n",
    "        ind_u_i = [i for i in range(len(u)) if u[i]>0]\n",
    "        if (u<=0).all():\n",
    "            # se tutti i coefficienti di u sono <= 0, soluzione -> -inf \n",
    "            print('Il valore ottimo della funzione obiettivo è meno infinito.')\n",
    "        else:\n",
    "            # altrimenti, calcoliamo theta minimo\n",
    "            # theta = min {x_i/u_i} \n",
    "            # per tutti gli i | u_i > 0\n",
    "            # STELLINA\n",
    "            theta = np.min([k/w for k, w in zip(xb, u) if w>0])\n",
    "            # una volta trovato il theta, siamo interessati all'indice corrispondente\n",
    "            # alla variabile in base a cui corrisponde il theta min\n",
    "            ind_out_var = [k/w for k, w in zip(xb, u) if w>0].index(theta)\n",
    "            # indice corrispondente alla variabile di base da far uscire\n",
    "            out_var = vettori_base[ind_out_var]\n",
    "            # sostituiamo la colonna corrispondente all'indice della variabile uscente\n",
    "            # con la colonna relativa alla variabile corrispondente all'indice scelto\n",
    "            # con la regola di Bland -> essa sarà una nuova colonna di base\n",
    "            print('sub_matrix:\\n', sub_matrix)\n",
    "            # cambiamo indice delle variabili di base\n",
    "            vettori_base[ind_out_var] = min_ind\n",
    "            # ridefiniamo la matrice di base\n",
    "            sub_matrix = matrix_A[:, vettori_base]\n",
    "            print('sub_matrix:\\n', sub_matrix)\n",
    "            new_xb_i = [x_i-theta*u_i for x_i, u_i in zip(xb,u)]\n",
    "            print(new_xb_i)\n",
    "            xb=np.zeros(rank_A)\n",
    "            for i in range(len(xb)):\n",
    "                xb[i]=new_xb_i[i]  \n",
    "                if i==ind_out_var:\n",
    "                    xb[i]=theta\n",
    "            print(\"soluzione:\\n\", xb)  \n",
    "            print(\"variabili di base:\\n\",vettori_base)\n",
    "        "
   ]
  },
  {
   "cell_type": "code",
   "execution_count": 43,
   "metadata": {},
   "outputs": [
    {
     "data": {
      "text/plain": [
       "array([0.5])"
      ]
     },
     "execution_count": 43,
     "metadata": {},
     "output_type": "execute_result"
    }
   ],
   "source": [
    "#calcolo costo ottimo della funzione obiettivo\n",
    "list_coff_base=[list_coff[i] for i in vettori_base]\n",
    "costo=np.dot(list_coff_base,xb)\n",
    "costo"
   ]
  }
 ],
 "metadata": {
  "kernelspec": {
   "display_name": "Python 3.8.8 ('base')",
   "language": "python",
   "name": "python3"
  },
  "language_info": {
   "codemirror_mode": {
    "name": "ipython",
    "version": 3
   },
   "file_extension": ".py",
   "mimetype": "text/x-python",
   "name": "python",
   "nbconvert_exporter": "python",
   "pygments_lexer": "ipython3",
   "version": "3.8.8 (default, Apr 13 2021, 15:08:03) [MSC v.1916 64 bit (AMD64)]"
  },
  "orig_nbformat": 4,
  "vscode": {
   "interpreter": {
    "hash": "2915b03768e119c23c78091936d62a401fbf5766d3f8b5d545929439f0ccf6ea"
   }
  }
 },
 "nbformat": 4,
 "nbformat_minor": 2
}
