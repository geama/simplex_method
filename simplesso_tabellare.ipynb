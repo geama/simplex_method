{
 "cells": [
  {
   "cell_type": "code",
   "execution_count": 38,
   "metadata": {},
   "outputs": [],
   "source": [
    "import numpy as np\n",
    "from itertools import combinations"
   ]
  },
  {
   "cell_type": "code",
   "execution_count": 39,
   "metadata": {},
   "outputs": [
    {
     "name": "stdout",
     "output_type": "stream",
     "text": [
      "\n",
      "Vincolo numero 0\n",
      "Inserire coefficiente numero 0\n",
      "Inserire coefficiente numero 1\n",
      "Inserire termine noto: \n",
      "\n",
      "Vincolo numero 1\n",
      "Inserire coefficiente numero 0\n",
      "Inserire coefficiente numero 1\n",
      "Inserire termine noto: \n",
      "\n",
      "Vincolo numero 2\n",
      "Inserire coefficiente numero 0\n",
      "Inserire coefficiente numero 1\n",
      "Inserire termine noto: \n",
      "\n",
      "Vincolo numero 3\n",
      "Inserire coefficiente numero 0\n",
      "Inserire coefficiente numero 1\n",
      "Inserire termine noto: \n",
      "[[1. 1.]\n",
      " [1. 0.]\n",
      " [0. 1.]\n",
      " [1. 2.]]\n",
      "[[12.]\n",
      " [10.]\n",
      " [ 6.]\n",
      " [16.]]\n",
      "[[1. 1. 1. 0. 0. 0.]\n",
      " [1. 0. 0. 1. 0. 0.]\n",
      " [0. 1. 0. 0. 1. 0.]\n",
      " [1. 2. 0. 0. 0. 1.]]\n",
      "[[12.]\n",
      " [10.]\n",
      " [ 6.]\n",
      " [16.]]\n"
     ]
    }
   ],
   "source": [
    "%run std_input_matrix.ipynb"
   ]
  },
  {
   "attachments": {},
   "cell_type": "markdown",
   "metadata": {},
   "source": [
    "Un’ulteriore implementazione del metodo del simplesso è nota come metodo\n",
    "del simplesso tabellare. \n",
    "Pur essendo meno efficiente in termini di complessità computazionale rispetto al simplesso revisionato, il simplesso tabellare presenta il vantaggio di riportare in forma compatta tutti i dati necessari alla computazione in un’unica tabella, detta anche tableau."
   ]
  },
  {
   "attachments": {},
   "cell_type": "markdown",
   "metadata": {},
   "source": [
    "Il simplesso tabellare aggiorna ad ogni iterazione la matrice:\n",
    "$$B^{-1}[b|A] \\in \\mathbb{R}^{m \\dot (n+1)}$$\n",
    "le cui colonne sono gli $n+1$ vettori $B^{−1}b, B^{−1}A_{1}, B^{−1}A_{2},..., B^{−1}A_{n}$. \n",
    "\n",
    "La colonna $B^{−1}b$ è detta **colonna zero** e contiene i valori assunti dalle variabili\n",
    "**correntemente in base**.\n",
    "\n",
    "Supponiamo che la variabile **entrante in base** sia $x_{j}$, mentre quella **uscente dalla base** sia $x_{B(l)}$. Allora, la j-ma colonna del tableau $B^{−1}A_{j}$ è detta **colonna di pivot**; la riga l-ma è detta riga di pivot e l’elemento all’incrocio della colonna e della riga di pivot è detto **elemento di pivot**. Si noti che l’elemento di pivot è $u_{l}$ ed è sempre positivo, perchè se $u \\le 0$, ciò comporterebbe la terminazione dell’algoritmo con valore ottimo della funzione obiettivo pari a $-\\inf$.\n",
    "\n",
    "Le informazioni contenute nelle righe del tableau hanno, invece, la seguente interpretazione: \n",
    "\n",
    "Dati i vincoli del problema $b = Ax$ e data la matrice corrente di base $B$, i vincoli possono\n",
    "anche essere equivalentemente espressi come:\n",
    "$$B^{-1}b = B^{-1}Ax$$\n",
    "che corrisponde esattamente all'informazione contenuta nelle righe del tableau.\n",
    "\n",
    "Alla fine di ogni iterazione del simplesso tabellare è necessario aggiornare il tableau $B^{−1}[b|A]$ per ottenere $\\bar{B}^{−1}[b|A]$, dove $\\bar{B}$ è la nuova matrice di base.\n",
    "\n",
    "Siffatto aggiornamento è realizzato applicando al tableau una serie di operazioni di riga elementari atte a trasformare la colonna j-ma del tableau nel vettore unitario $e_{l}$, il vettore, cioè, contenete tutti zeri ed un unico uno nella riga l-ma.\n",
    "\n",
    "Per quanto riguarda, invece, la determinazione del valore di $\\theta*$ e della variabile $x_{B(l)}$ uscente dalla base, basta controllare i valori $\\frac{x_{B(i)}}{ui}$ dati dal rapporto fra l'i-ma entrata della colonna zero e l'i-ma entrata della colonna di pivot, tali che ui sia positivo: il più piccolo di tali rapporti fornisce il valore da assegnare a $\\theta*$ e determina anche la variabile $x_{B(l)}$.\n",
    "\n",
    "Al tableau tipicamente è aggiunta anche una riga zero, il cui primo elemento situato nell’angolo in alto a sinistra corrisponde a:\n",
    "$$−c'_{B}B^{-1}b$$ \n",
    "cioè al valore cambiato di segno che la funzione obiettivo assume in corrispondenza della soluzione xB correntemente in base. \n",
    "\n",
    "I restanti $n$ elementi della riga zero corrispondono al vettore dei costi ridotti:\n",
    "$$c' - c'_{B}B^{-1}A$$\n",
    "\n",
    "Guardando i costi ridotti contenuti nella riga zero, l’indice j della variabile entrante in base è immediatamente determinabile e, una volta determinato, la riga zero subisce anch’essa le opportune trasformazioni affinchè $c_{j}$ sia reso nullo."
   ]
  },
  {
   "cell_type": "code",
   "execution_count": 40,
   "metadata": {},
   "outputs": [
    {
     "name": "stdout",
     "output_type": "stream",
     "text": [
      "vettori base:\n",
      " [0, 1, 2, 3]\n",
      "vettori fuori base:\n",
      " [4, 5]\n"
     ]
    }
   ],
   "source": [
    "print('vettori base:\\n', vettori_base)\n",
    "print('vettori fuori base:\\n', vettori_fuori_base)"
   ]
  },
  {
   "cell_type": "code",
   "execution_count": 41,
   "metadata": {},
   "outputs": [
    {
     "data": {
      "text/plain": [
       "[-3, -5, 0, 0, 0, 0]"
      ]
     },
     "execution_count": 41,
     "metadata": {},
     "output_type": "execute_result"
    }
   ],
   "source": [
    "list_coff"
   ]
  },
  {
   "cell_type": "code",
   "execution_count": 42,
   "metadata": {},
   "outputs": [
    {
     "name": "stdout",
     "output_type": "stream",
     "text": [
      "[-3, -5, 0, 0]\n"
     ]
    }
   ],
   "source": [
    "# creo la prima colonna del tableau:\n",
    "# - elemento 0 (vertice in alto a sinistra): valore della funzione obiettivo\n",
    "#                                            cambiato di segno valutata in xb;\n",
    "# - gli altri elementi: valore relativo ad ogni variabile in base della soluzione xb\n",
    "# creo la prima riga del tableau:\n",
    "# - elemento 0: come sopra;\n",
    "# - gli altri elementi:    cbar_j = c'_j - c'b * B^(-1) * A_j\n",
    "#                      dove: \n",
    "#                       - cbar_j è il j-esimo costo ridotto;\n",
    "#                       - c'_j coefficiente j-esimo della funzione obiettivo;\n",
    "#                       - c'b è il vettore dei coefficienti della funzione obiettivo\n",
    "#                         relativi slle variabili di base corrente;\n",
    "#                       - B è la matrice di base;\n",
    "#                       - A_j è la j-esima colonna di A.\n",
    "\n",
    "# elemento 0\n",
    "zero_elem = -np.dot(np.array([list_coff[i] for i in vettori_base]) , xb)\n",
    "\n",
    "# altri elementi\n",
    "\n",
    "# lista dei coefficienti dei vettori base\n",
    "cprimeb = [list_coff[i] for i in vettori_base]\n",
    "print(cprimeb)\n",
    "# inizializzo lista di tutti i costi ridotti\n",
    "c_j_list = [] \n",
    "\n",
    "for j in range(len(list_coff)):\n",
    "    # calcolo dei costi:\n",
    "    # c_j = cj - c'b * B(-1) * Aj\n",
    "    c_j = list_coff[j] - np.dot(np.dot(cprimeb, np.linalg.inv(sub_matrix)), matrix_A[:,j])\n",
    "    c_j_list.append(c_j)\n",
    "# lista in cui salviamo l'indice delle variabili relative ad un costo ridotto negativo\n",
    "neg_c_j_ind = np.where(np.array(c_j_list)<0)"
   ]
  },
  {
   "cell_type": "code",
   "execution_count": 43,
   "metadata": {},
   "outputs": [
    {
     "data": {
      "text/plain": [
       "[0.0, 0.0, 0.0, 0.0, -1.0, 3.0]"
      ]
     },
     "execution_count": 43,
     "metadata": {},
     "output_type": "execute_result"
    }
   ],
   "source": [
    "c_j_list = [round(i, 5) for i in c_j_list]\n",
    "for i in range(len(c_j_list)):\n",
    "    if c_j_list[i]==-0.0 and i in neg_c_j_ind:\n",
    "        neg_c_j_ind.remove(i)\n",
    "        c_j_list[i] = -c_j_list[i]   \n",
    "c_j_list"
   ]
  },
  {
   "cell_type": "code",
   "execution_count": 44,
   "metadata": {},
   "outputs": [
    {
     "name": "stdout",
     "output_type": "stream",
     "text": [
      "[4.0, 1.0, 1.0, 1.0, 0.0, 0.0, 0.0]\n",
      "[6.0, 1.0, 0.0, 0.0, 1.0, 0.0, 0.0]\n",
      "[2.0, 0.0, 1.0, 0.0, 0.0, 1.0, 0.0]\n",
      "[6.0, 1.0, 2.0, 0.0, 0.0, 0.0, 1.0]\n"
     ]
    }
   ],
   "source": [
    "first_row = list(zero_elem) + c_j_list\n",
    "tableau = []\n",
    "for i, j in zip(matrix_Aprime, xb):\n",
    "    row = list(j) + list(i)\n",
    "    print(row)\n",
    "    tableau.append(row)\n",
    "tableau.insert(0, first_row)"
   ]
  },
  {
   "cell_type": "code",
   "execution_count": 45,
   "metadata": {},
   "outputs": [
    {
     "data": {
      "text/plain": [
       "array([[42.,  0.,  0.,  0.,  0., -1.,  3.],\n",
       "       [ 4.,  1.,  1.,  1.,  0.,  0.,  0.],\n",
       "       [ 6.,  1.,  0.,  0.,  1.,  0.,  0.],\n",
       "       [ 2.,  0.,  1.,  0.,  0.,  1.,  0.],\n",
       "       [ 6.,  1.,  2.,  0.,  0.,  0.,  1.]])"
      ]
     },
     "execution_count": 45,
     "metadata": {},
     "output_type": "execute_result"
    }
   ],
   "source": [
    "tableau = np.array(tableau)\n",
    "tableau"
   ]
  },
  {
   "cell_type": "code",
   "execution_count": 46,
   "metadata": {},
   "outputs": [
    {
     "name": "stdout",
     "output_type": "stream",
     "text": [
      "(array([4], dtype=int64),)\n",
      "u:  [[0.]\n",
      " [0.]\n",
      " [1.]\n",
      " [0.]]\n",
      "xb:  [[4.]\n",
      " [6.]\n",
      " [2.]\n",
      " [6.]]\n",
      "out_ind:  2\n",
      "[[43.  1.  1.  1.  1.  0.  4.]\n",
      " [ 4.  1.  1.  1.  0.  0.  0.]\n",
      " [ 6.  1.  0.  0.  1.  0.  0.]\n",
      " [ 2.  0.  1.  0.  0.  1.  0.]\n",
      " [ 6.  1.  2.  0.  0.  0.  1.]]\n",
      "new_xb:  [4. 6. 2. 6.]\n"
     ]
    },
    {
     "name": "stderr",
     "output_type": "stream",
     "text": [
      "<ipython-input-46-25e03a6e58cf>:16: RuntimeWarning: divide by zero encountered in true_divide\n",
      "  xb_u_list.append(xb_i/u_i)\n"
     ]
    }
   ],
   "source": [
    "c_j_list = np.array(c_j_list)\n",
    "flag_2 = (c_j_list>0).all()\n",
    "\n",
    "while flag_2==False:\n",
    "    print(neg_c_j_ind)\n",
    "    # scegliamo l'indice più piccolo tra le variabili che hanno costo ridotto negativo\n",
    "    min_ind = np.min(neg_c_j_ind) # REGOLA DI BLAND\n",
    "    # calcolo u = B(-1) * A(indice minimo scelto)\n",
    "    u = tableau[1:,neg_c_j_ind[0]+1]\n",
    "    print('u: ', u)\n",
    "    print('xb: ', xb)\n",
    "    # indice della riga di pivot\n",
    "    # seleziono min {x_i / u_i} -> indice della variabile uscente\n",
    "    xb_u_list = []\n",
    "    for xb_i, u_i in zip(xb, u):\n",
    "        xb_u_list.append(xb_i/u_i)\n",
    "    out_xbu = np.min([w for w in xb_u_list if w>0])\n",
    "    out_ind = np.where(np.array(xb_u_list)==out_xbu)[0][0]\n",
    "    print('out_ind: ', out_ind)\n",
    "    # operazioni elementari tra righe per trasformare \n",
    "    # u -> e_j (j-esima comp della matrice identità)\n",
    "    # r_p = r_p / r_p[neg_c_j_ind[0]+1]\n",
    "    tableau[out_ind+1] = tableau[out_ind+1] / tableau[out_ind+1][neg_c_j_ind[0]+1]\n",
    "    # per ogni riga r_j del tableau - esclusa quella di pivot (r_p)\n",
    "    # r_j = r_j - r_j[neg_c_j_ind[0]+1] / r_p[neg_c_j_ind[0]+1]\n",
    "    for j in range(tableau.shape[0]):\n",
    "        if j==out_ind+1:\n",
    "            continue\n",
    "        tableau[j]= tableau[j] - tableau[j][neg_c_j_ind[0]+1] / tableau[out_ind+1][neg_c_j_ind[0]+1]\n",
    "    neg_c_j_ind = np.where(tableau[0,1:]<0)[0]\n",
    "    print(tableau)\n",
    "    xb=tableau[1:,0]\n",
    "    print('new_xb: ', xb)\n",
    "    if (tableau[0,1:]>=0).all():\n",
    "        flag_2 = True\n"
   ]
  },
  {
   "cell_type": "code",
   "execution_count": 47,
   "metadata": {},
   "outputs": [
    {
     "data": {
      "text/plain": [
       "array([[43.,  1.,  1.,  1.,  1.,  0.,  4.],\n",
       "       [ 4.,  1.,  1.,  1.,  0.,  0.,  0.],\n",
       "       [ 6.,  1.,  0.,  0.,  1.,  0.,  0.],\n",
       "       [ 2.,  0.,  1.,  0.,  0.,  1.,  0.],\n",
       "       [ 6.,  1.,  2.,  0.,  0.,  0.,  1.]])"
      ]
     },
     "execution_count": 47,
     "metadata": {},
     "output_type": "execute_result"
    }
   ],
   "source": [
    "tableau"
   ]
  },
  {
   "cell_type": "code",
   "execution_count": 48,
   "metadata": {},
   "outputs": [
    {
     "name": "stdout",
     "output_type": "stream",
     "text": [
      "Costo ottimo:  -43.0\n"
     ]
    }
   ],
   "source": [
    "print('Costo ottimo: ', -tableau[0,0])\n"
   ]
  }
 ],
 "metadata": {
  "kernelspec": {
   "display_name": "Python 3.8.8 ('base')",
   "language": "python",
   "name": "python3"
  },
  "language_info": {
   "codemirror_mode": {
    "name": "ipython",
    "version": 3
   },
   "file_extension": ".py",
   "mimetype": "text/x-python",
   "name": "python",
   "nbconvert_exporter": "python",
   "pygments_lexer": "ipython3",
   "version": "3.8.8 (default, Apr 13 2021, 15:08:03) [MSC v.1916 64 bit (AMD64)]"
  },
  "orig_nbformat": 4,
  "vscode": {
   "interpreter": {
    "hash": "2915b03768e119c23c78091936d62a401fbf5766d3f8b5d545929439f0ccf6ea"
   }
  }
 },
 "nbformat": 4,
 "nbformat_minor": 2
}
