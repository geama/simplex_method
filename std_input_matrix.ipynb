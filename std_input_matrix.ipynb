{
 "cells": [
  {
   "cell_type": "code",
   "execution_count": 67,
   "metadata": {},
   "outputs": [],
   "source": [
    "import numpy as np\n",
    "from itertools import combinations"
   ]
  },
  {
   "cell_type": "code",
   "execution_count": 68,
   "metadata": {},
   "outputs": [],
   "source": [
    "dim = int(input('Inserire numero di variabili della funzione obiettivo: '))\n",
    "\n",
    "if type(dim)!=int:\n",
    "    raise ValueError('DEVE ESSERE INTERO, BRUTTA CACCA')\n",
    "\n",
    "coeff = input('Inserire coefficienti della funzione obiettivo, separandoli con lo spazio: ')\n",
    "list_coff = coeff.split()\n",
    "\n",
    "if len(list_coff)!=dim:\n",
    "    raise ValueError('Dimensione sbagliata.')\n",
    "\n",
    "list_coff = [int(i) for i in list_coff]\n",
    "min = input('Digitare \\'min\\' per un problema di minimizzazione, altrimenti \\'max\\' per un problema di massimizzazione: ')\n",
    "\n",
    "if min=='min':\n",
    "    pass\n",
    "elif min=='max':\n",
    "    list_coff = [-i for i in list_coff]\n",
    "else:\n",
    "    raise ValueError('Specificare \\'min\\' o \\'max\\'')\n",
    "\n",
    "n_vincoli = int(input('Inserire numero di vincoli: ')) #righe\n",
    "n_variabili = int(input('Inserire numero totale di variabili dei vincoli: '))\n",
    "vincoli = np.zeros((n_vincoli, n_variabili))\n",
    "termini_noti = np.zeros((n_vincoli, 1))"
   ]
  },
  {
   "cell_type": "code",
   "execution_count": 69,
   "metadata": {},
   "outputs": [
    {
     "name": "stdout",
     "output_type": "stream",
     "text": [
      "\n",
      "Vincolo numero 0\n",
      "Inserire coefficiente numero 0\n",
      "Inserire coefficiente numero 1\n",
      "Inserire coefficiente numero 2\n",
      "Inserire termine noto: \n",
      "\n",
      "Vincolo numero 1\n",
      "Inserire coefficiente numero 0\n",
      "Inserire coefficiente numero 1\n",
      "Inserire coefficiente numero 2\n",
      "Inserire termine noto: \n"
     ]
    }
   ],
   "source": [
    "tipi_vincolo = []\n",
    "\n",
    "for v, k in zip(vincoli, range(vincoli.shape[0])):\n",
    "    print('\\nVincolo numero', k)\n",
    "    tipo = input('Inserire tipo di vincolo (\\'<=\\', \\'>=\\', \\'=\\'): ')\n",
    "    if tipo!='<=' and tipo!='>=' and tipo!='=':\n",
    "        raise ValueError('Tipo invalido.')\n",
    "    tipi_vincolo.append(tipo)\n",
    "\n",
    "    for j in range(v.shape[0]):\n",
    "        print('Inserire coefficiente numero', j)\n",
    "        v[j] = int(input(''))   \n",
    "    print('Inserire termine noto: ')\n",
    "    termini_noti[k] = int(input(''))"
   ]
  },
  {
   "cell_type": "code",
   "execution_count": 70,
   "metadata": {},
   "outputs": [
    {
     "name": "stdout",
     "output_type": "stream",
     "text": [
      "[[ 3. -1.  1.]\n",
      " [ 2.  1.  2.]]\n",
      "[[ 4.]\n",
      " [10.]]\n"
     ]
    }
   ],
   "source": [
    "print(vincoli)\n",
    "print(termini_noti)"
   ]
  },
  {
   "cell_type": "markdown",
   "metadata": {},
   "source": [
    "Ogni problema di programmazione lineare può essere trasformato in un problema equivalente formulato in forma standard.\n",
    "\n",
    "Definizione: Un problema di PL si dice formulato in forma standard se si tratta di minimizzare una funzione obiettivo lineare soggetta a vincoli di uguaglianza, se le variabili di decisione sono vincolate ad essere nonnegative e il vettore dei termini noti è nonnegativo.\n",
    "\n",
    "Infatti, è sempre possibile assumere che la funzione obiettivo lineare z(x) sia da\n",
    "minimizzare, in quanto il valore della variabile x∗ che rende massima z(x)\n",
    "rende minima la stessa funzione cambiata di segno.\n",
    "\n",
    "Un qualsiasi vincolo può essere trasformato in vincolo di uguaglianza introducendo opportune variabili aggiuntive nonnegative: \n",
    "1. nel caso di un vincolo (<=) avremo una variabile di slack (positiva, che rappresenta la differenza nonnegativa tra il secondo ed il primo\n",
    "membro della disuguaglianza);\n",
    "2. nel caso di un vincolo (>=) avremo una variabile di surplus (negativa, rappresenta la differenza nonnegativa tra il primo ed il secondo\n",
    "membro della disuguaglianza)."
   ]
  },
  {
   "cell_type": "code",
   "execution_count": 71,
   "metadata": {},
   "outputs": [],
   "source": [
    "##### standardizziamo il problema #####\n",
    "# termini noti negativi no bueno (cambio il verso della disequazione)\n",
    "for w in range(vincoli.shape[0]):\n",
    "    if vincoli[w][vincoli.shape[1]-1]<0:\n",
    "        vincoli[w] = [-i for i in vincoli[w]]\n",
    "        if tipi_vincolo[w]=='<=':\n",
    "            tipi_vincolo[w]='>='\n",
    "        elif tipi_vincolo[w]=='>=':\n",
    "            tipi_vincolo[w]='<='\n",
    "\n",
    "# dobbiamo aggiungere un numero di variabili di surplus e slack pari al numero di disequazioni\n",
    "num_diseq = tipi_vincolo.count('<=') + tipi_vincolo.count('>=')\n",
    "# aggiungo tanti zeri quante sono le variabili di surplus/slack alla funzione obiettivo\n",
    "list_coff = list_coff + num_diseq*[0]\n",
    "# creo il vettore di zeri da sovrascrivere in seguito\n",
    "surplack_col = np.zeros((len(tipi_vincolo), num_diseq))\n",
    "\n",
    "for tipo, i in zip(tipi_vincolo, range(surplack_col.shape[1])):\n",
    "    if tipo=='<=':\n",
    "    # variabile di slack\n",
    "        surplack_col[i][i] = 1\n",
    "    if tipo=='>=':\n",
    "    # variabile di surplus\n",
    "        surplack_col[i][i] = -1\n",
    "\n",
    "matrix_A = np.concatenate((vincoli, surplack_col), axis=1)\n",
    "matrix_Ab = np.concatenate((matrix_A, termini_noti), axis=1)\n",
    "rank_A = np.linalg.matrix_rank(matrix_A)\n",
    "rank_Ab = np.linalg.matrix_rank(matrix_Ab)\n",
    "if rank_A != rank_Ab:\n",
    "    raise ValueError('Rango non ammissibile: rank(A) != rank(Ab)')\n",
    "\n",
    "if rank_A != len(tipi_vincolo):\n",
    "    raise ValueError('Rango non ammissibile: rank_(A) != numero vincoli, rank(A):', rank_A)"
   ]
  },
  {
   "cell_type": "code",
   "execution_count": 72,
   "metadata": {},
   "outputs": [
    {
     "name": "stdout",
     "output_type": "stream",
     "text": [
      "[[ 3. -1.  1.  1.  0.]\n",
      " [ 2.  1.  2.  0. -1.]]\n",
      "[[ 4.]\n",
      " [10.]]\n"
     ]
    }
   ],
   "source": [
    "print(matrix_A)\n",
    "print(termini_noti)"
   ]
  },
  {
   "cell_type": "markdown",
   "metadata": {},
   "source": [
    "Se un problema di PL formulato in forma standard ammette una soluzione ottima finita, allora\n",
    "esiste una soluzione ammissibile di base ottima.\n",
    "\n",
    "Il metodo del simplesso si basa su tale considerazione e cerca una soluzione ottima al problema\n",
    "muovendosi da una soluzione ammissibile di base ad una adiacente sempre nella direzione lungo la quale si verifica un decremento del valore corrente della funzione obiettivo.\n",
    "\n",
    "Il metodo del simplesso, passando da una soluzione ammissibile di base ad una soluzione ammissibile di base adiacente e terminando quando non esiste una soluzione ammissibile di base\n",
    "migliore, può essere interpretato come algoritmo di ricerca locale. Fortunatamente, però, nel caso di problemi di PL, dal momento che si tratta di ottimizzare una funzione obiettivo convessa su una regione ammissibile convessa, si è certi che l’ottimo locale restituito in output dal metodo del simplesso è ottimo anche globalmente."
   ]
  }
 ],
 "metadata": {
  "kernelspec": {
   "display_name": "Python 3.8.8 ('base')",
   "language": "python",
   "name": "python3"
  },
  "language_info": {
   "codemirror_mode": {
    "name": "ipython",
    "version": 3
   },
   "file_extension": ".py",
   "mimetype": "text/x-python",
   "name": "python",
   "nbconvert_exporter": "python",
   "pygments_lexer": "ipython3",
   "version": "3.8.8"
  },
  "orig_nbformat": 4,
  "vscode": {
   "interpreter": {
    "hash": "2915b03768e119c23c78091936d62a401fbf5766d3f8b5d545929439f0ccf6ea"
   }
  }
 },
 "nbformat": 4,
 "nbformat_minor": 2
}
